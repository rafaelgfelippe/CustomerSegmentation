{
 "cells": [
  {
   "cell_type": "markdown",
   "metadata": {},
   "source": [
    "# Segmentação de Clientes - Customer Segmentation"
   ]
  },
  {
   "cell_type": "markdown",
   "metadata": {},
   "source": [
    "Segmentação de clientes para campanhas customizadas de Marketing em uma rede de *Food Delivery*.\n",
    "\n",
    "Esse é um projeto de clusterização.\n",
    "\n",
    "Disponível também em meu <a href='https://github.com/rafaelgfelippe/CustomerSegmentation'>github</a>.\n",
    "\n",
    "O conjunto de dados utilizado está disponível <a href='https://www.kaggle.com/rafaelgfelippe/food-delivery'>neste link</a>."
   ]
  },
  {
   "cell_type": "markdown",
   "metadata": {},
   "source": [
    "## 1. Entendimento do Negócio"
   ]
  },
  {
   "cell_type": "markdown",
   "metadata": {},
   "source": [
    "A Big Rango é um restaurante do tipo *Dark Kitchen*, ou seja, é um estabelecimento de serviço de alimentação que oferece apenas comida para viagem. Atuando em 9 cidades, a Big Rango é um restaurante 100% delivery, onde os pedidos são realizados via telefone ou internet, e entregues diretamente aos clientes.\n",
    "\n",
    "Visando oferecer uma comunicação assertiva e personalizada, a Big Rango contratou um consultor em ciência de dados para realizar a segmentação de seus clientes. O principal objetivo da empresa é identificar os principais padrões de consumo e assim, realizar campanhas de Marketing customizadas para cada grupo de clientes. \n",
    "\n",
    "Além disso, a empresa também estuda adicionar novos pratos no cardápio, que atualmente, é composto por pizzas, bebidas, saladas e sobremesas. A segmentação dos clientes também pode auxiliar a empresa nessa tarefa.  "
   ]
  },
  {
   "cell_type": "markdown",
   "metadata": {},
   "source": [
    "### 1.1 Dicionário de Dados"
   ]
  },
  {
   "cell_type": "markdown",
   "metadata": {},
   "source": [
    "Em relação ao conjunto de dados, as seguintes informações foram disponibilizadas:\n",
    "\n",
    "- Os dados estão em formato estruturado e serão disponibilizados em um arquivo \"csv\".\n",
    "- A variável **`id_transacao`** possui o mesmo código para cada item dentro de um pedido.\n",
    "- Todos os pedidos são referentes ao ano de 2019.\n",
    "- A empresa não trabalha das 2 às 10 horas da manhã.\n",
    "\n",
    "Além disso, também foi disponibilizado o dicionário de dados:\n",
    "\n",
    "* **`id_transacao`**: identificação do pedido.\n",
    "\n",
    "* **`horario_pedido`**: horário do pedido.\n",
    "\n",
    "* **`localidade`**: local da unidade do restaurante.\n",
    "\n",
    "* **`nome_item`**: nome do item pedido.\n",
    "\n",
    "* **`quantidade_item`**: quantidade do item no pedido.\n",
    "\n",
    "* **`latitude`**: latitude da localidade do restaurante.\n",
    "\n",
    "* **`longitude`**: longitude da localidade do restaurante."
   ]
  },
  {
   "cell_type": "markdown",
   "metadata": {},
   "source": [
    "### 1.2 Estratégia da Solução"
   ]
  },
  {
   "cell_type": "markdown",
   "metadata": {},
   "source": [
    "Como estratégia para a solução dos problemas, definimos as seguintes etapas:\n",
    "\n",
    "- **1. Entendimento do Negócio:** nesta etapa inicial, realizamos uma breve introdução sobre o tema do projeto, entendemos as necessidades do cliente e definimos nossos objetivos.\n",
    "\n",
    "\n",
    "- **2. Entendimento dos Dados:** o objetivo é realizar um tratamento inicial para verificar a qualidade dos dados, também realizaremos uma análise mais detalhada a fim de responder perguntas sobre o negócio.\n",
    "\n",
    "\n",
    "- **3. Engenharia de Atributos:** nessa sessão, iremos visualizar os dados de uma outra perspectiva, além de realizar a seleção das melhores variáveis.\n",
    "\n",
    "\n",
    "- **4. Pré-Processamento dos Dados:** nesta etapa, o objetivo é preparar os dados para a aplicação do modelo de Machine Learning.\n",
    "\n",
    "\n",
    "- **5. Modelagem Preditiva:** utilizaremos o *K-means*, um dos algoritmos mais utilizados para problemas de clusterização. \n",
    "\n",
    "\n",
    "- **6. Análise de Clusters:** iremos explorar os clusters com objetivo de identificar padrões e recomendar ações para a área de Marketing.\n",
    "\n",
    "\n",
    "- **7. Conclusões Finais:** por fim, entregaremos o resultado final do projeto."
   ]
  },
  {
   "cell_type": "markdown",
   "metadata": {},
   "source": [
    "## 2. Entendimento dos Dados"
   ]
  },
  {
   "cell_type": "markdown",
   "metadata": {},
   "source": [
    "Vamos iniciar o projeto carregando as bibliotecas e o conjunto de dados."
   ]
  },
  {
   "cell_type": "markdown",
   "metadata": {},
   "source": [
    "### 2.1 Bibliotecas Necessárias"
   ]
  },
  {
   "cell_type": "code",
   "execution_count": 1,
   "metadata": {},
   "outputs": [],
   "source": [
    "# Filtragem das mensagens de avisos.\n",
    "options(warn = -1)\n",
    "options(dplyr.summarise.inform = FALSE)\n",
    "\n",
    "# Carregando as bibliotecas. \n",
    "library(pacman)\n",
    "\n",
    "pacman::p_load(clustertend,\n",
    "               corrplot,\n",
    "               data.table,\n",
    "               dplyr,\n",
    "               factoextra,\n",
    "               ggplot2,\n",
    "               grid,\n",
    "               lubridate,\n",
    "               NbClust,\n",
    "               readr,\n",
    "               scales,\n",
    "               tidyr,\n",
    "               tidytext,\n",
    "               wesanderson)"
   ]
  },
  {
   "cell_type": "code",
   "execution_count": 2,
   "metadata": {},
   "outputs": [],
   "source": [
    "# Configurações do notebook.\n",
    "\n",
    "# Plotagens.\n",
    "options(repr.plot.width = 10, \n",
    "        repr.plot.height = 6, \n",
    "        scipen = 999)\n",
    "\n",
    "# Estilo dos gráficos.\n",
    "theme_set(theme_classic())\n",
    "\n",
    "# Função para alterar o tamanho da área de plotagens.\n",
    "fig <- function(width, heigth){\n",
    "    options(repr.plot.width = width, \n",
    "            repr.plot.height = heigth)}"
   ]
  },
  {
   "cell_type": "markdown",
   "metadata": {},
   "source": [
    "### 2.2 Tratamento Inicial dos Dados"
   ]
  },
  {
   "cell_type": "markdown",
   "metadata": {},
   "source": [
    "Nessa etapa, nosso objetivo é realizar uma análise geral no dataset a fim de tratar possíveis inconsistências nos dados."
   ]
  },
  {
   "cell_type": "code",
   "execution_count": 3,
   "metadata": {},
   "outputs": [
    {
     "name": "stderr",
     "output_type": "stream",
     "text": [
      "\n",
      "\u001b[36m--\u001b[39m \u001b[1m\u001b[1mColumn specification\u001b[1m\u001b[22m \u001b[36m--------------------------------------------------------\u001b[39m\n",
      "cols(\n",
      "  id_transacao = col_character(),\n",
      "  horario_pedido = col_datetime(format = \"\"),\n",
      "  localidade = col_double(),\n",
      "  nome_item = col_character(),\n",
      "  quantidade_item = col_double(),\n",
      "  latitude = col_double(),\n",
      "  longitude = col_double()\n",
      ")\n",
      "\n"
     ]
    }
   ],
   "source": [
    "# Carregando o conjunto de dados.\n",
    "df <- read_csv('dataset.csv')"
   ]
  },
  {
   "cell_type": "markdown",
   "metadata": {},
   "source": [
    "Criar uma cópia do dataset é uma boa prática para não perdermos o conteúdo original durante a manipulação dos dados."
   ]
  },
  {
   "cell_type": "code",
   "execution_count": 4,
   "metadata": {},
   "outputs": [],
   "source": [
    "# Cópia do dataset.\n",
    "df1 <- df"
   ]
  },
  {
   "cell_type": "code",
   "execution_count": 5,
   "metadata": {},
   "outputs": [
    {
     "data": {
      "text/html": [
       "<ol class=list-inline>\n",
       "\t<li>260645</li>\n",
       "\t<li>7</li>\n",
       "</ol>\n"
      ],
      "text/latex": [
       "\\begin{enumerate*}\n",
       "\\item 260645\n",
       "\\item 7\n",
       "\\end{enumerate*}\n"
      ],
      "text/markdown": [
       "1. 260645\n",
       "2. 7\n",
       "\n",
       "\n"
      ],
      "text/plain": [
       "[1] 260645      7"
      ]
     },
     "metadata": {},
     "output_type": "display_data"
    }
   ],
   "source": [
    "# Dimensão do dataframe.\n",
    "dim(df1)"
   ]
  },
  {
   "cell_type": "markdown",
   "metadata": {},
   "source": [
    "O conjunto de dados possui 260.645 registros e 7 variáveis."
   ]
  },
  {
   "cell_type": "code",
   "execution_count": 6,
   "metadata": {
    "scrolled": true
   },
   "outputs": [
    {
     "data": {
      "text/html": [
       "<table>\n",
       "<thead><tr><th scope=col>id_transacao</th><th scope=col>horario_pedido</th><th scope=col>localidade</th><th scope=col>nome_item</th><th scope=col>quantidade_item</th><th scope=col>latitude</th><th scope=col>longitude</th></tr></thead>\n",
       "<tbody>\n",
       "\t<tr><td>0x7901ee           </td><td>2019-01-16 18:33:00</td><td>7                  </td><td>bebida             </td><td>2                  </td><td>41.79413           </td><td>-88.01014          </td></tr>\n",
       "\t<tr><td>0x7901ee           </td><td>2019-01-16 18:33:00</td><td>7                  </td><td>pizza              </td><td>2                  </td><td>41.79413           </td><td>-88.01014          </td></tr>\n",
       "\t<tr><td>0x7901ee           </td><td>2019-01-16 18:33:00</td><td>7                  </td><td>sobremesa          </td><td>2                  </td><td>41.79413           </td><td>-88.01014          </td></tr>\n",
       "\t<tr><td>0x12b47f           </td><td>2019-09-04 12:36:00</td><td>3                  </td><td>salada             </td><td>1                  </td><td>41.88449           </td><td>-87.62706          </td></tr>\n",
       "\t<tr><td>0x12b47f           </td><td>2019-09-04 12:36:00</td><td>3                  </td><td>sobremesa          </td><td>1                  </td><td>41.88449           </td><td>-87.62706          </td></tr>\n",
       "\t<tr><td>0x6d6979           </td><td>2019-03-18 00:27:00</td><td>6                  </td><td>pizza              </td><td>2                  </td><td>41.78458           </td><td>-87.60756          </td></tr>\n",
       "</tbody>\n",
       "</table>\n"
      ],
      "text/latex": [
       "\\begin{tabular}{r|lllllll}\n",
       " id\\_transacao & horario\\_pedido & localidade & nome\\_item & quantidade\\_item & latitude & longitude\\\\\n",
       "\\hline\n",
       "\t 0x7901ee            & 2019-01-16 18:33:00 & 7                   & bebida              & 2                   & 41.79413            & -88.01014          \\\\\n",
       "\t 0x7901ee            & 2019-01-16 18:33:00 & 7                   & pizza               & 2                   & 41.79413            & -88.01014          \\\\\n",
       "\t 0x7901ee            & 2019-01-16 18:33:00 & 7                   & sobremesa           & 2                   & 41.79413            & -88.01014          \\\\\n",
       "\t 0x12b47f            & 2019-09-04 12:36:00 & 3                   & salada              & 1                   & 41.88449            & -87.62706          \\\\\n",
       "\t 0x12b47f            & 2019-09-04 12:36:00 & 3                   & sobremesa           & 1                   & 41.88449            & -87.62706          \\\\\n",
       "\t 0x6d6979            & 2019-03-18 00:27:00 & 6                   & pizza               & 2                   & 41.78458            & -87.60756          \\\\\n",
       "\\end{tabular}\n"
      ],
      "text/markdown": [
       "\n",
       "| id_transacao | horario_pedido | localidade | nome_item | quantidade_item | latitude | longitude |\n",
       "|---|---|---|---|---|---|---|\n",
       "| 0x7901ee            | 2019-01-16 18:33:00 | 7                   | bebida              | 2                   | 41.79413            | -88.01014           |\n",
       "| 0x7901ee            | 2019-01-16 18:33:00 | 7                   | pizza               | 2                   | 41.79413            | -88.01014           |\n",
       "| 0x7901ee            | 2019-01-16 18:33:00 | 7                   | sobremesa           | 2                   | 41.79413            | -88.01014           |\n",
       "| 0x12b47f            | 2019-09-04 12:36:00 | 3                   | salada              | 1                   | 41.88449            | -87.62706           |\n",
       "| 0x12b47f            | 2019-09-04 12:36:00 | 3                   | sobremesa           | 1                   | 41.88449            | -87.62706           |\n",
       "| 0x6d6979            | 2019-03-18 00:27:00 | 6                   | pizza               | 2                   | 41.78458            | -87.60756           |\n",
       "\n"
      ],
      "text/plain": [
       "  id_transacao horario_pedido      localidade nome_item quantidade_item\n",
       "1 0x7901ee     2019-01-16 18:33:00 7          bebida    2              \n",
       "2 0x7901ee     2019-01-16 18:33:00 7          pizza     2              \n",
       "3 0x7901ee     2019-01-16 18:33:00 7          sobremesa 2              \n",
       "4 0x12b47f     2019-09-04 12:36:00 3          salada    1              \n",
       "5 0x12b47f     2019-09-04 12:36:00 3          sobremesa 1              \n",
       "6 0x6d6979     2019-03-18 00:27:00 6          pizza     2              \n",
       "  latitude longitude\n",
       "1 41.79413 -88.01014\n",
       "2 41.79413 -88.01014\n",
       "3 41.79413 -88.01014\n",
       "4 41.88449 -87.62706\n",
       "5 41.88449 -87.62706\n",
       "6 41.78458 -87.60756"
      ]
     },
     "metadata": {},
     "output_type": "display_data"
    }
   ],
   "source": [
    "# Visualizando o dataframe.\n",
    "head(df1)"
   ]
  },
  {
   "cell_type": "code",
   "execution_count": 7,
   "metadata": {},
   "outputs": [
    {
     "name": "stdout",
     "output_type": "stream",
     "text": [
      "spec_tbl_df [260,645 x 7] (S3: spec_tbl_df/tbl_df/tbl/data.frame)\n",
      " $ id_transacao   : chr [1:260645] \"0x7901ee\" \"0x7901ee\" \"0x7901ee\" \"0x12b47f\" ...\n",
      " $ horario_pedido : POSIXct[1:260645], format: \"2019-01-16 18:33:00\" \"2019-01-16 18:33:00\" ...\n",
      " $ localidade     : num [1:260645] 7 7 7 3 3 6 6 2 2 2 ...\n",
      " $ nome_item      : chr [1:260645] \"bebida\" \"pizza\" \"sobremesa\" \"salada\" ...\n",
      " $ quantidade_item: num [1:260645] 2 2 2 1 1 2 2 2 2 2 ...\n",
      " $ latitude       : num [1:260645] 41.8 41.8 41.8 41.9 41.9 ...\n",
      " $ longitude      : num [1:260645] -88 -88 -88 -87.6 -87.6 ...\n",
      " - attr(*, \"spec\")=\n",
      "  .. cols(\n",
      "  ..   id_transacao = col_character(),\n",
      "  ..   horario_pedido = col_datetime(format = \"\"),\n",
      "  ..   localidade = col_double(),\n",
      "  ..   nome_item = col_character(),\n",
      "  ..   quantidade_item = col_double(),\n",
      "  ..   latitude = col_double(),\n",
      "  ..   longitude = col_double()\n",
      "  .. )\n"
     ]
    }
   ],
   "source": [
    "# Informações do dataframe.\n",
    "str(df1)"
   ]
  },
  {
   "cell_type": "code",
   "execution_count": 8,
   "metadata": {},
   "outputs": [
    {
     "data": {
      "text/html": [
       "<dl class=dl-horizontal>\n",
       "\t<dt>id_transacao</dt>\n",
       "\t\t<dd>0</dd>\n",
       "\t<dt>horario_pedido</dt>\n",
       "\t\t<dd>0</dd>\n",
       "\t<dt>localidade</dt>\n",
       "\t\t<dd>0</dd>\n",
       "\t<dt>nome_item</dt>\n",
       "\t\t<dd>0</dd>\n",
       "\t<dt>quantidade_item</dt>\n",
       "\t\t<dd>0</dd>\n",
       "\t<dt>latitude</dt>\n",
       "\t\t<dd>0</dd>\n",
       "\t<dt>longitude</dt>\n",
       "\t\t<dd>0</dd>\n",
       "</dl>\n"
      ],
      "text/latex": [
       "\\begin{description*}\n",
       "\\item[id\\textbackslash{}\\_transacao] 0\n",
       "\\item[horario\\textbackslash{}\\_pedido] 0\n",
       "\\item[localidade] 0\n",
       "\\item[nome\\textbackslash{}\\_item] 0\n",
       "\\item[quantidade\\textbackslash{}\\_item] 0\n",
       "\\item[latitude] 0\n",
       "\\item[longitude] 0\n",
       "\\end{description*}\n"
      ],
      "text/markdown": [
       "id_transacao\n",
       ":   0horario_pedido\n",
       ":   0localidade\n",
       ":   0nome_item\n",
       ":   0quantidade_item\n",
       ":   0latitude\n",
       ":   0longitude\n",
       ":   0\n",
       "\n"
      ],
      "text/plain": [
       "   id_transacao  horario_pedido      localidade       nome_item quantidade_item \n",
       "              0               0               0               0               0 \n",
       "       latitude       longitude \n",
       "              0               0 "
      ]
     },
     "metadata": {},
     "output_type": "display_data"
    }
   ],
   "source": [
    "# Verificando registros ausentes.\n",
    "colSums(is.na(df1))"
   ]
  },
  {
   "cell_type": "code",
   "execution_count": 9,
   "metadata": {},
   "outputs": [
    {
     "data": {
      "text/plain": [
       "\n",
       " FALSE \n",
       "260645 "
      ]
     },
     "metadata": {},
     "output_type": "display_data"
    }
   ],
   "source": [
    "# Verificando registros duplicados.\n",
    "table(duplicated(df1))"
   ]
  },
  {
   "cell_type": "code",
   "execution_count": 10,
   "metadata": {},
   "outputs": [
    {
     "data": {
      "text/html": [
       "<dl class=dl-horizontal>\n",
       "\t<dt>id_transacao</dt>\n",
       "\t\t<dd>100000</dd>\n",
       "\t<dt>horario_pedido</dt>\n",
       "\t\t<dd>76799</dd>\n",
       "\t<dt>localidade</dt>\n",
       "\t\t<dd>9</dd>\n",
       "\t<dt>nome_item</dt>\n",
       "\t\t<dd>4</dd>\n",
       "\t<dt>quantidade_item</dt>\n",
       "\t\t<dd>5</dd>\n",
       "\t<dt>latitude</dt>\n",
       "\t\t<dd>9</dd>\n",
       "\t<dt>longitude</dt>\n",
       "\t\t<dd>9</dd>\n",
       "</dl>\n"
      ],
      "text/latex": [
       "\\begin{description*}\n",
       "\\item[id\\textbackslash{}\\_transacao] 100000\n",
       "\\item[horario\\textbackslash{}\\_pedido] 76799\n",
       "\\item[localidade] 9\n",
       "\\item[nome\\textbackslash{}\\_item] 4\n",
       "\\item[quantidade\\textbackslash{}\\_item] 5\n",
       "\\item[latitude] 9\n",
       "\\item[longitude] 9\n",
       "\\end{description*}\n"
      ],
      "text/markdown": [
       "id_transacao\n",
       ":   100000horario_pedido\n",
       ":   76799localidade\n",
       ":   9nome_item\n",
       ":   4quantidade_item\n",
       ":   5latitude\n",
       ":   9longitude\n",
       ":   9\n",
       "\n"
      ],
      "text/plain": [
       "   id_transacao  horario_pedido      localidade       nome_item quantidade_item \n",
       "         100000           76799               9               4               5 \n",
       "       latitude       longitude \n",
       "              9               9 "
      ]
     },
     "metadata": {},
     "output_type": "display_data"
    }
   ],
   "source": [
    "# Verificando registros únicos.\n",
    "sapply(df1, function(x) {length(unique(x))})"
   ]
  },
  {
   "cell_type": "markdown",
   "metadata": {},
   "source": [
    "- Temos informações de 100 mil pedidos.\n",
    "- Existem 9 localidades diferentes.\n",
    "- As variáveis **`latitude`** e **`longitude`** serão descartadas, pois, estão representadas na variável **`localidade`**."
   ]
  },
  {
   "cell_type": "code",
   "execution_count": 11,
   "metadata": {},
   "outputs": [],
   "source": [
    "# Excluindo as variáveis.\n",
    "df1 <- subset(df1, select = -c(latitude, longitude))"
   ]
  },
  {
   "cell_type": "markdown",
   "metadata": {},
   "source": [
    "Não detectamos problemas em relação aos dados, sendo assim, seguiremos para a análise exploratória."
   ]
  },
  {
   "cell_type": "markdown",
   "metadata": {},
   "source": [
    "### 2.3 Análise Exploratória"
   ]
  },
  {
   "cell_type": "markdown",
   "metadata": {},
   "source": [
    "Nesta etapa, iniciaremos uma análise mais detalhada com o objetivo de extrair insights do negócio."
   ]
  },
  {
   "cell_type": "code",
   "execution_count": 12,
   "metadata": {},
   "outputs": [
    {
     "data": {
      "text/html": [
       "<ol class=list-inline>\n",
       "\t<li>'id_transacao'</li>\n",
       "\t<li>'horario_pedido'</li>\n",
       "\t<li>'localidade'</li>\n",
       "\t<li>'nome_item'</li>\n",
       "\t<li>'quantidade_item'</li>\n",
       "</ol>\n"
      ],
      "text/latex": [
       "\\begin{enumerate*}\n",
       "\\item 'id\\_transacao'\n",
       "\\item 'horario\\_pedido'\n",
       "\\item 'localidade'\n",
       "\\item 'nome\\_item'\n",
       "\\item 'quantidade\\_item'\n",
       "\\end{enumerate*}\n"
      ],
      "text/markdown": [
       "1. 'id_transacao'\n",
       "2. 'horario_pedido'\n",
       "3. 'localidade'\n",
       "4. 'nome_item'\n",
       "5. 'quantidade_item'\n",
       "\n",
       "\n"
      ],
      "text/plain": [
       "[1] \"id_transacao\"    \"horario_pedido\"  \"localidade\"      \"nome_item\"      \n",
       "[5] \"quantidade_item\""
      ]
     },
     "metadata": {},
     "output_type": "display_data"
    }
   ],
   "source": [
    "# Variáveis do dataframe.\n",
    "colnames(df1)"
   ]
  },
  {
   "cell_type": "code",
   "execution_count": 13,
   "metadata": {},
   "outputs": [
    {
     "data": {
      "text/plain": [
       " horario_pedido                  localidade    quantidade_item\n",
       " Min.   :2019-01-01 00:00:00   Min.   :1.000   Min.   :1.000  \n",
       " 1st Qu.:2019-04-02 13:12:00   1st Qu.:3.000   1st Qu.:1.000  \n",
       " Median :2019-07-01 11:49:00   Median :5.000   Median :2.000  \n",
       " Mean   :2019-07-01 21:07:00   Mean   :5.135   Mean   :2.447  \n",
       " 3rd Qu.:2019-09-30 18:07:00   3rd Qu.:7.000   3rd Qu.:4.000  \n",
       " Max.   :2019-12-30 23:59:00   Max.   :9.000   Max.   :5.000  "
      ]
     },
     "metadata": {},
     "output_type": "display_data"
    }
   ],
   "source": [
    "# Estatísticas das variáveis.\n",
    "summary(df1[c('horario_pedido',\n",
    "              'localidade', \n",
    "              'quantidade_item')])"
   ]
  },
  {
   "cell_type": "markdown",
   "metadata": {},
   "source": [
    "- A variável **`localidade`** possui valores de 1 a 9.\n",
    "- A variável **`quantidade_item`** possui valores de 1 a 5."
   ]
  },
  {
   "cell_type": "code",
   "execution_count": 14,
   "metadata": {},
   "outputs": [
    {
     "data": {
      "text/plain": [
       "\n",
       "   bebida     pizza    salada sobremesa \n",
       "    46156     76122     38367    100000 "
      ]
     },
     "metadata": {},
     "output_type": "display_data"
    }
   ],
   "source": [
    "# Contagem de registros.\n",
    "table(df1$nome_item)"
   ]
  },
  {
   "cell_type": "code",
   "execution_count": 15,
   "metadata": {},
   "outputs": [
    {
     "data": {
      "image/png": "[encoded data removed]",
      "text/plain": [
       "plot without title"
      ]
     },
     "metadata": {},
     "output_type": "display_data"
    }
   ],
   "source": [
    "# Boxplot's dos itens.\n",
    "df1 %>%\n",
    "ggplot(aes(x = nome_item, y = quantidade_item)) +\n",
    "geom_boxplot(aes(fill = nome_item), show.legend = FALSE) +\n",
    "scale_fill_brewer(palette = 'Spectral') +\n",
    "ggtitle('Boxplot dos Itens') + theme(plot.title = element_text(hjust = 0.5)) + \n",
    "labs(x = 'Quantidade', y = 'Itens')"
   ]
  },
  {
   "cell_type": "markdown",
   "metadata": {},
   "source": [
    "- A classe bebida tem como mediana 3 unidades, enquanto as demais estão na faixa de 2 unidades.\n",
    "- Clientes que pedem 4 ou 5 itens da classe salada são considerados *outliers*."
   ]
  },
  {
   "cell_type": "code",
   "execution_count": 16,
   "metadata": {},
   "outputs": [
    {
     "data": {
      "image/png": "[encoded data removed]",
      "text/plain": [
       "plot without title"
      ]
     },
     "metadata": {},
     "output_type": "display_data"
    }
   ],
   "source": [
    "# Histogramas dos itens.\n",
    "df1 %>%\n",
    "select(nome_item, quantidade_item) %>% \n",
    "ggplot(aes(x = quantidade_item, fill = nome_item)) +\n",
    "geom_histogram(aes(y = ..density..), bins = 5,  show.legend = FALSE) +\n",
    "scale_fill_brewer(palette = 'Spectral') +\n",
    "facet_grid(~nome_item) +\n",
    "ggtitle('Histogramas dos Itens') + theme(plot.title = element_text(hjust = 0.5)) +  \n",
    "labs(x = 'Quantidade', y = 'Frêquencia')"
   ]
  },
  {
   "cell_type": "markdown",
   "metadata": {},
   "source": [
    "- Para a classe salada, existem poucos pedidos que solicitam mais que 3 unidades.\n",
    "- A sobremesa é o item mais pedido do cardápio e possui uma distribuição mais uniforme. "
   ]
  },
  {
   "cell_type": "markdown",
   "metadata": {},
   "source": [
    "#### 2.3.1 Perguntas de Negócio"
   ]
  },
  {
   "cell_type": "markdown",
   "metadata": {},
   "source": [
    "Agora que entendemos o que as variáveis representam, vamos criar algumas perguntas sobre o negócio.\n",
    "\n",
    "- **P1.** Qual o mês que teve o maior e o menor número de pedidos?\n",
    "- **P2.** Qual o dia do mês que gerou o maior e o menor número de pedidos?\n",
    "- **P3.** Há diferenças significativas no número de pedidos em relação ao dia da semana?\n",
    "- **P4.** Qual o horário gera o maior número de pedidos?\n",
    "- **P5.** Quais são os itens mais pedidos por horário?\n",
    "- **P6.** Quais as localidades que mais geram pedidos?\n",
    "- **P7.** Quais os itens mais pedidos em cada localidade?"
   ]
  },
  {
   "cell_type": "code",
   "execution_count": 17,
   "metadata": {},
   "outputs": [
    {
     "data": {
      "image/png": "[encoded data removed]",
      "text/plain": [
       "plot without title"
      ]
     },
     "metadata": {},
     "output_type": "display_data"
    }
   ],
   "source": [
    "# Pergunta 1.\n",
    "df1 %>% \n",
    "mutate(mes = month(horario_pedido)) %>%\n",
    "ggplot(aes(mes)) +\n",
    "geom_freqpoly(binwidth = 1) +\n",
    "ylim(c(19900, 23000)) +\n",
    "scale_x_continuous(breaks = 1:12) +\n",
    "ggtitle('Pedidos Realizados por Mês') + theme(plot.title = element_text(hjust = 0.5)) + \n",
    "labs(x = 'Mês', y = 'Quantidade')"
   ]
  },
  {
   "cell_type": "markdown",
   "metadata": {},
   "source": [
    "Pergunta 1:\n",
    "\n",
    "- **P1.** Qual o mês que teve o maior e o menor número de pedidos?\n",
    "    - Maio foi o mês que teve o maior número de pedidos, enquanto fevereiro registrou o menor número."
   ]
  },
  {
   "cell_type": "code",
   "execution_count": 18,
   "metadata": {},
   "outputs": [
    {
     "data": {
      "image/png": "[encoded data removed]",
      "text/plain": [
       "plot without title"
      ]
     },
     "metadata": {},
     "output_type": "display_data"
    }
   ],
   "source": [
    "# Pergunta 2.\n",
    "df1 %>% \n",
    "mutate(dia = day(horario_pedido),\n",
    "       mes = month(horario_pedido),\n",
    "       ano = year(horario_pedido)) %>% \n",
    "ggplot(aes(dia)) +\n",
    "geom_freqpoly(binwidth = 1) +\n",
    "ylim(c(7500, 10000)) +\n",
    "scale_x_continuous(breaks = 1:30) +\n",
    "ggtitle('Pedidos Realizados por Dia do Mês') + theme(plot.title = element_text(hjust = 0.5)) + \n",
    "labs(x = 'Dia', y = 'Quantidade')"
   ]
  },
  {
   "cell_type": "markdown",
   "metadata": {},
   "source": [
    "Pergunta 2:\n",
    "\n",
    "- **P2.** Qual o dia do mês que gerou o maior e o menor número de pedidos?\n",
    "    - Contabilizando todos os meses, o dia 23 é o que gerou o maior número de pedidos, enquanto o dia 30 gerou o menor número.\n",
    "    \n",
    "Para responder a pergunta 3 criaremos uma função para gerar várias plotagens. "
   ]
  },
  {
   "cell_type": "code",
   "execution_count": 19,
   "metadata": {},
   "outputs": [],
   "source": [
    "# Criando a função.\n",
    "p_dia_semana <- function(month, color){\n",
    "    df1 %>%\n",
    "    mutate(ano = year(horario_pedido),\n",
    "           mes = month(horario_pedido),\n",
    "           dia_mes = day(horario_pedido),\n",
    "           dia_semana = weekdays(horario_pedido),\n",
    "           horas = hour(horario_pedido)) %>%\n",
    "    mutate(dia_semana = factor(dia_semana, levels = c('segunda-feira',\n",
    "                                                      'terça-feira',\n",
    "                                                      'quarta-feira',\n",
    "                                                      'quinta-feira',\n",
    "                                                      'sexta-feira', \n",
    "                                                      'sábado', \n",
    "                                                      'domingo'),\n",
    "                               labels = c('seg', 'ter', 'qua', 'qui', 'sex', 'sáb', 'dom'))) %>%\n",
    "    filter(ano == 2019, mes == month) %>% \n",
    "    group_by(dia_semana) %>% \n",
    "    dplyr::summarise(n = n()) %>% \n",
    "    ggplot(aes(x = dia_semana, y = n)) +\n",
    "    geom_col(size = 1, fill = color) +\n",
    "    ggtitle(sprintf('Mês %d', month))+\n",
    "    xlab('') +\n",
    "    geom_text(aes(label = round(n/sum(n), 2)), \n",
    "              vjust = 1.6, \n",
    "              color = 'black', \n",
    "              size = 5)}"
   ]
  },
  {
   "cell_type": "code",
   "execution_count": 20,
   "metadata": {},
   "outputs": [
    {
     "data": {
      "image/png": "[encoded data removed]",
      "text/plain": [
       "plot without title"
      ]
     },
     "metadata": {},
     "output_type": "display_data"
    }
   ],
   "source": [
    "# Pergunta 3.\n",
    "\n",
    "# Redefinindo a área de plotagem.\n",
    "fig(15,15)\n",
    "\n",
    "# Plotagens.\n",
    "gridExtra::grid.arrange(p_dia_semana(1, 'lightblue'),\n",
    "                        p_dia_semana(2, 'lightblue'),\n",
    "                        p_dia_semana(3, 'lightblue'),\n",
    "                        p_dia_semana(4, 'lightblue'),\n",
    "                        p_dia_semana(5, 'lightblue'),\n",
    "                        p_dia_semana(6, 'lightblue'),\n",
    "                        p_dia_semana(7, 'lightblue'),\n",
    "                        p_dia_semana(8, 'lightblue'),\n",
    "                        p_dia_semana(9, 'lightblue'),\n",
    "                        p_dia_semana(10, 'lightblue'),\n",
    "                        p_dia_semana(11, 'lightblue'),\n",
    "                        p_dia_semana(12, 'lightblue'),\n",
    "                        ncol = 2, nrow = 6,\n",
    "                        top = textGrob('Pedidos por Dia da Semana - 2019',\n",
    "                                       gp = gpar(fontsize = 20)))"
   ]
  },
  {
   "cell_type": "markdown",
   "metadata": {},
   "source": [
    "Pergunta 3:\n",
    "\n",
    "- **P3.** Há diferenças significativas no número de pedidos em relação ao dia da semana?\n",
    "    - Não, em geral, os fins de semana apresentam maior número de pedidos, porém, essa diferença não é significativa."
   ]
  },
  {
   "cell_type": "code",
   "execution_count": 21,
   "metadata": {},
   "outputs": [
    {
     "data": {
      "image/png": "[encoded data removed]",
      "text/plain": [
       "plot without title"
      ]
     },
     "metadata": {},
     "output_type": "display_data"
    }
   ],
   "source": [
    "# Pergunta 4.\n",
    "df1 %>%\n",
    "mutate(hora = hour(horario_pedido),\n",
    "       dia = day(horario_pedido),\n",
    "       mes = month(horario_pedido),\n",
    "       ano = year(horario_pedido)) %>%\n",
    "ggplot(aes(hora)) +\n",
    "geom_freqpoly(binwidth = 1) +\n",
    "scale_x_continuous(breaks = 0:23) +\n",
    "ggtitle('Pedidos por Horário') + theme(plot.title = element_text(hjust = 0.5)) +\n",
    "labs(x = 'Hora', y = 'Quantidade')"
   ]
  },
  {
   "cell_type": "markdown",
   "metadata": {},
   "source": [
    "Pergunta 4:\n",
    "\n",
    "- **P4.** Qual o horário gera o maior número de pedidos?\n",
    "    - Por volta de meia-noite é onde há o maior número de pedidos. "
   ]
  },
  {
   "cell_type": "code",
   "execution_count": 22,
   "metadata": {},
   "outputs": [
    {
     "data": {
      "image/png": "[encoded data removed]",
      "text/plain": [
       "plot without title"
      ]
     },
     "metadata": {},
     "output_type": "display_data"
    }
   ],
   "source": [
    "# Pergunta 5.\n",
    "\n",
    "# Redefinindo a área de plotagem.\n",
    "fig(13,8)\n",
    "\n",
    "df1 %>%\n",
    "mutate(hora = hour(horario_pedido),\n",
    "       dia = day(horario_pedido),\n",
    "       mes = month(horario_pedido),\n",
    "       ano = year(horario_pedido)) %>%\n",
    "select(mes, hora, nome_item, quantidade_item) %>% \n",
    "group_by(mes, hora, nome_item) %>% \n",
    "summarise(tot = sum(quantidade_item)) %>%\n",
    "\n",
    "# Plotagem.\n",
    "ggplot(aes(x = tot, y = reorder(nome_item, tot), fill = nome_item)) +\n",
    "geom_col() +\n",
    "scale_fill_brewer(palette = 'Spectral') +\n",
    "scale_x_continuous(labels = label_number(scale = 1/1000)) +\n",
    "guides(fill = F) +\n",
    "facet_grid(mes~hora) + \n",
    "ggtitle('Número de Pedidos por Horário') + theme(plot.title = element_text(hjust = 0.5)) + \n",
    "labs(x = 'Quantidade (milhar)', y = NULL)"
   ]
  },
  {
   "cell_type": "markdown",
   "metadata": {},
   "source": [
    "Pergunta 5:\n",
    "\n",
    "- **P5.** Quais são os itens mais pedidos por horário?\n",
    "    - Entre 0h e 1h os itens predominantes são sobremesa e pizza.\n",
    "    - Durante o horário de almoço, sobremesa e salada são os principais itens.\n",
    "    - Durante o horário de jantar, há um grande aumento nos pedidos de sobremesa, pizza e bebida."
   ]
  },
  {
   "cell_type": "code",
   "execution_count": 23,
   "metadata": {},
   "outputs": [
    {
     "data": {
      "image/png": "[encoded data removed]",
      "text/plain": [
       "plot without title"
      ]
     },
     "metadata": {},
     "output_type": "display_data"
    }
   ],
   "source": [
    "# Pergunta 6.\n",
    "df1 %>%\n",
    "group_by(localidade) %>% \n",
    "dplyr::summarise(n = n()) %>% \n",
    "ggplot(aes(x = reorder(localidade, n), y = n)) +\n",
    "geom_col(fill = 'lightblue') +\n",
    "coord_flip() +\n",
    "ggtitle('Total de Pedidos por Localidade') + theme(plot.title = element_text(hjust = 0.5)) +\n",
    "xlab(\"Localidade\") + ylab(\"Número de Pedidos\") +\n",
    "geom_text(aes(label = round(n/sum(n), 2)),\n",
    "          vjust = 0.5, \n",
    "          color = 'black', \n",
    "          size = 3.5, \n",
    "          hjust = 1.5)"
   ]
  },
  {
   "cell_type": "markdown",
   "metadata": {},
   "source": [
    "Pergunta 6:\n",
    "\n",
    "- **P6.** Quais as localidades que mais geram pedidos?\n",
    "    - As localidades 6 e 2 são as que mais geram pedidos, totalizando 28%."
   ]
  },
  {
   "cell_type": "code",
   "execution_count": 24,
   "metadata": {},
   "outputs": [
    {
     "data": {
      "image/png": "[encoded data removed]",
      "text/plain": [
       "plot without title"
      ]
     },
     "metadata": {},
     "output_type": "display_data"
    }
   ],
   "source": [
    "# Pergunta 7.\n",
    "df1 %>%\n",
    "mutate(hora = hour(horario_pedido),\n",
    "       dia = day(horario_pedido),\n",
    "       mes = month(horario_pedido),\n",
    "       ano = year(horario_pedido)) %>%\n",
    "select(localidade, hora, mes, nome_item, quantidade_item) %>%\n",
    "mutate(localidade = as.factor(localidade)) %>% \n",
    "group_by(localidade, hora, mes, nome_item) %>% \n",
    "summarise(tot = sum(quantidade_item)) %>%\n",
    "\n",
    "# PLotagem.\n",
    "ggplot(aes(x = tot, y = reorder_within(nome_item, tot, localidade), fill = nome_item)) +\n",
    "geom_col() +\n",
    "scale_y_reordered() +\n",
    "scale_fill_brewer(palette = 'Spectral') +\n",
    "facet_wrap(~localidade, scales = 'free_y') +\n",
    "guides(fill = F) +\n",
    "ggtitle('Itens Pedidos por Localidade') + theme(plot.title = element_text(hjust = 0.5)) + \n",
    "labs(x = NULL, y = NULL)"
   ]
  },
  {
   "cell_type": "markdown",
   "metadata": {},
   "source": [
    "Pergunta 7:\n",
    "\n",
    "- **P7.** Quais os itens mais pedidos em cada localidade?\n",
    "    - Sobremesa é o principal item nos pedidos de todas as localidades.\n",
    "    \n",
    "Respondemos todas as perguntas, assim, finalizamos a etapa de análise exploratória."
   ]
  },
  {
   "cell_type": "markdown",
   "metadata": {},
   "source": [
    "## 3. Engenharia de Atributos"
   ]
  },
  {
   "cell_type": "markdown",
   "metadata": {},
   "source": [
    "### 3.1 Extração de Variáveis (Feature Extraction)"
   ]
  },
  {
   "cell_type": "markdown",
   "metadata": {},
   "source": [
    "A etapa de extração de variáveis será constituída na transformação do atual conjunto de dados em uma tabela *pivot*. "
   ]
  },
  {
   "cell_type": "code",
   "execution_count": 25,
   "metadata": {},
   "outputs": [],
   "source": [
    "# Tabela pivot.\n",
    "df2 <- df1 %>% \n",
    "group_by(id_transacao) %>% \n",
    "spread(nome_item, quantidade_item) %>%\n",
    "\n",
    "# Tratando valores.\n",
    "tidyr::replace_na((list(bebida = 0,\n",
    "                        pizza = 0,\n",
    "                        salada = 0,\n",
    "                        sobremesa = 0)))"
   ]
  },
  {
   "cell_type": "code",
   "execution_count": 26,
   "metadata": {},
   "outputs": [
    {
     "data": {
      "text/html": [
       "<table>\n",
       "<thead><tr><th scope=col>id_transacao</th><th scope=col>horario_pedido</th><th scope=col>localidade</th><th scope=col>bebida</th><th scope=col>pizza</th><th scope=col>salada</th><th scope=col>sobremesa</th></tr></thead>\n",
       "<tbody>\n",
       "\t<tr><td>0x7901ee           </td><td>2019-01-16 18:33:00</td><td>7                  </td><td>2                  </td><td>2                  </td><td>0                  </td><td>2                  </td></tr>\n",
       "\t<tr><td>0x12b47f           </td><td>2019-09-04 12:36:00</td><td>3                  </td><td>0                  </td><td>0                  </td><td>1                  </td><td>1                  </td></tr>\n",
       "\t<tr><td>0x6d6979           </td><td>2019-03-18 00:27:00</td><td>6                  </td><td>0                  </td><td>2                  </td><td>0                  </td><td>2                  </td></tr>\n",
       "\t<tr><td>0x78dd1e           </td><td>2019-09-22 00:10:00</td><td>2                  </td><td>2                  </td><td>2                  </td><td>0                  </td><td>2                  </td></tr>\n",
       "\t<tr><td>0x4df8ab           </td><td>2019-01-17 11:35:00</td><td>8                  </td><td>0                  </td><td>0                  </td><td>3                  </td><td>3                  </td></tr>\n",
       "\t<tr><td>0x3be6d3           </td><td>2019-12-21 01:05:00</td><td>6                  </td><td>0                  </td><td>1                  </td><td>0                  </td><td>1                  </td></tr>\n",
       "</tbody>\n",
       "</table>\n"
      ],
      "text/latex": [
       "\\begin{tabular}{r|lllllll}\n",
       " id\\_transacao & horario\\_pedido & localidade & bebida & pizza & salada & sobremesa\\\\\n",
       "\\hline\n",
       "\t 0x7901ee            & 2019-01-16 18:33:00 & 7                   & 2                   & 2                   & 0                   & 2                  \\\\\n",
       "\t 0x12b47f            & 2019-09-04 12:36:00 & 3                   & 0                   & 0                   & 1                   & 1                  \\\\\n",
       "\t 0x6d6979            & 2019-03-18 00:27:00 & 6                   & 0                   & 2                   & 0                   & 2                  \\\\\n",
       "\t 0x78dd1e            & 2019-09-22 00:10:00 & 2                   & 2                   & 2                   & 0                   & 2                  \\\\\n",
       "\t 0x4df8ab            & 2019-01-17 11:35:00 & 8                   & 0                   & 0                   & 3                   & 3                  \\\\\n",
       "\t 0x3be6d3            & 2019-12-21 01:05:00 & 6                   & 0                   & 1                   & 0                   & 1                  \\\\\n",
       "\\end{tabular}\n"
      ],
      "text/markdown": [
       "\n",
       "| id_transacao | horario_pedido | localidade | bebida | pizza | salada | sobremesa |\n",
       "|---|---|---|---|---|---|---|\n",
       "| 0x7901ee            | 2019-01-16 18:33:00 | 7                   | 2                   | 2                   | 0                   | 2                   |\n",
       "| 0x12b47f            | 2019-09-04 12:36:00 | 3                   | 0                   | 0                   | 1                   | 1                   |\n",
       "| 0x6d6979            | 2019-03-18 00:27:00 | 6                   | 0                   | 2                   | 0                   | 2                   |\n",
       "| 0x78dd1e            | 2019-09-22 00:10:00 | 2                   | 2                   | 2                   | 0                   | 2                   |\n",
       "| 0x4df8ab            | 2019-01-17 11:35:00 | 8                   | 0                   | 0                   | 3                   | 3                   |\n",
       "| 0x3be6d3            | 2019-12-21 01:05:00 | 6                   | 0                   | 1                   | 0                   | 1                   |\n",
       "\n"
      ],
      "text/plain": [
       "  id_transacao horario_pedido      localidade bebida pizza salada sobremesa\n",
       "1 0x7901ee     2019-01-16 18:33:00 7          2      2     0      2        \n",
       "2 0x12b47f     2019-09-04 12:36:00 3          0      0     1      1        \n",
       "3 0x6d6979     2019-03-18 00:27:00 6          0      2     0      2        \n",
       "4 0x78dd1e     2019-09-22 00:10:00 2          2      2     0      2        \n",
       "5 0x4df8ab     2019-01-17 11:35:00 8          0      0     3      3        \n",
       "6 0x3be6d3     2019-12-21 01:05:00 6          0      1     0      1        "
      ]
     },
     "metadata": {},
     "output_type": "display_data"
    }
   ],
   "source": [
    "# Visualizando o dataframe.\n",
    "head(df2)"
   ]
  },
  {
   "cell_type": "markdown",
   "metadata": {},
   "source": [
    "### 3.2 Seleção de Variáveis (Feature Selection)"
   ]
  },
  {
   "cell_type": "markdown",
   "metadata": {},
   "source": [
    "Utilizaremos somente as variáveis numéricas. "
   ]
  },
  {
   "cell_type": "code",
   "execution_count": 27,
   "metadata": {},
   "outputs": [
    {
     "name": "stderr",
     "output_type": "stream",
     "text": [
      "Adding missing grouping variables: `id_transacao`\n"
     ]
    }
   ],
   "source": [
    "# Seleção das variáveis.\n",
    "df3 <- df2 %>% \n",
    "select(localidade, bebida, pizza, salada, sobremesa)\n",
    "\n",
    "# Excluindo a variável.\n",
    "df3$id_transacao <- NULL"
   ]
  },
  {
   "cell_type": "code",
   "execution_count": 28,
   "metadata": {},
   "outputs": [
    {
     "name": "stdout",
     "output_type": "stream",
     "text": [
      "tibble [100,000 x 5] (S3: tbl_df/tbl/data.frame)\n",
      " $ localidade: num [1:100000] 7 3 6 2 8 6 7 6 2 7 ...\n",
      " $ bebida    : num [1:100000] 2 0 0 2 0 0 3 1 1 2 ...\n",
      " $ pizza     : num [1:100000] 2 0 2 2 0 1 3 4 2 2 ...\n",
      " $ salada    : num [1:100000] 0 1 0 0 3 0 1 0 0 1 ...\n",
      " $ sobremesa : num [1:100000] 2 1 2 2 3 1 4 4 2 3 ...\n"
     ]
    }
   ],
   "source": [
    "# Informações do dataframe.\n",
    "str(df3)"
   ]
  },
  {
   "cell_type": "markdown",
   "metadata": {},
   "source": [
    "## 4. Pré-Processamento dos Dados"
   ]
  },
  {
   "cell_type": "markdown",
   "metadata": {},
   "source": [
    "A etapa de pré-processamento dos dados será constituída na normalização das variáveis."
   ]
  },
  {
   "cell_type": "code",
   "execution_count": 29,
   "metadata": {},
   "outputs": [],
   "source": [
    "# Função para normalização.\n",
    "dadosnorm <- function(x) {return ((x - min(x)) / (max(x) - min(x)))}"
   ]
  },
  {
   "cell_type": "code",
   "execution_count": 30,
   "metadata": {},
   "outputs": [],
   "source": [
    "# Aplicando a normalização.\n",
    "dfnorm <- as.data.frame(lapply(df3, dadosnorm))"
   ]
  },
  {
   "cell_type": "code",
   "execution_count": 31,
   "metadata": {},
   "outputs": [
    {
     "data": {
      "text/html": [
       "<table>\n",
       "<thead><tr><th scope=col>localidade</th><th scope=col>bebida</th><th scope=col>pizza</th><th scope=col>salada</th><th scope=col>sobremesa</th></tr></thead>\n",
       "<tbody>\n",
       "\t<tr><td>7</td><td>2</td><td>2</td><td>0</td><td>2</td></tr>\n",
       "\t<tr><td>3</td><td>0</td><td>0</td><td>1</td><td>1</td></tr>\n",
       "\t<tr><td>6</td><td>0</td><td>2</td><td>0</td><td>2</td></tr>\n",
       "\t<tr><td>2</td><td>2</td><td>2</td><td>0</td><td>2</td></tr>\n",
       "\t<tr><td>8</td><td>0</td><td>0</td><td>3</td><td>3</td></tr>\n",
       "\t<tr><td>6</td><td>0</td><td>1</td><td>0</td><td>1</td></tr>\n",
       "</tbody>\n",
       "</table>\n"
      ],
      "text/latex": [
       "\\begin{tabular}{r|lllll}\n",
       " localidade & bebida & pizza & salada & sobremesa\\\\\n",
       "\\hline\n",
       "\t 7 & 2 & 2 & 0 & 2\\\\\n",
       "\t 3 & 0 & 0 & 1 & 1\\\\\n",
       "\t 6 & 0 & 2 & 0 & 2\\\\\n",
       "\t 2 & 2 & 2 & 0 & 2\\\\\n",
       "\t 8 & 0 & 0 & 3 & 3\\\\\n",
       "\t 6 & 0 & 1 & 0 & 1\\\\\n",
       "\\end{tabular}\n"
      ],
      "text/markdown": [
       "\n",
       "| localidade | bebida | pizza | salada | sobremesa |\n",
       "|---|---|---|---|---|\n",
       "| 7 | 2 | 2 | 0 | 2 |\n",
       "| 3 | 0 | 0 | 1 | 1 |\n",
       "| 6 | 0 | 2 | 0 | 2 |\n",
       "| 2 | 2 | 2 | 0 | 2 |\n",
       "| 8 | 0 | 0 | 3 | 3 |\n",
       "| 6 | 0 | 1 | 0 | 1 |\n",
       "\n"
      ],
      "text/plain": [
       "  localidade bebida pizza salada sobremesa\n",
       "1 7          2      2     0      2        \n",
       "2 3          0      0     1      1        \n",
       "3 6          0      2     0      2        \n",
       "4 2          2      2     0      2        \n",
       "5 8          0      0     3      3        \n",
       "6 6          0      1     0      1        "
      ]
     },
     "metadata": {},
     "output_type": "display_data"
    }
   ],
   "source": [
    "# Dataset original.\n",
    "head(df3)"
   ]
  },
  {
   "cell_type": "code",
   "execution_count": 32,
   "metadata": {},
   "outputs": [
    {
     "data": {
      "text/html": [
       "<table>\n",
       "<thead><tr><th scope=col>localidade</th><th scope=col>bebida</th><th scope=col>pizza</th><th scope=col>salada</th><th scope=col>sobremesa</th></tr></thead>\n",
       "<tbody>\n",
       "\t<tr><td>0.750</td><td>0.4  </td><td>0.4  </td><td>0.0  </td><td>0.25 </td></tr>\n",
       "\t<tr><td>0.250</td><td>0.0  </td><td>0.0  </td><td>0.2  </td><td>0.00 </td></tr>\n",
       "\t<tr><td>0.625</td><td>0.0  </td><td>0.4  </td><td>0.0  </td><td>0.25 </td></tr>\n",
       "\t<tr><td>0.125</td><td>0.4  </td><td>0.4  </td><td>0.0  </td><td>0.25 </td></tr>\n",
       "\t<tr><td>0.875</td><td>0.0  </td><td>0.0  </td><td>0.6  </td><td>0.50 </td></tr>\n",
       "\t<tr><td>0.625</td><td>0.0  </td><td>0.2  </td><td>0.0  </td><td>0.00 </td></tr>\n",
       "</tbody>\n",
       "</table>\n"
      ],
      "text/latex": [
       "\\begin{tabular}{r|lllll}\n",
       " localidade & bebida & pizza & salada & sobremesa\\\\\n",
       "\\hline\n",
       "\t 0.750 & 0.4   & 0.4   & 0.0   & 0.25 \\\\\n",
       "\t 0.250 & 0.0   & 0.0   & 0.2   & 0.00 \\\\\n",
       "\t 0.625 & 0.0   & 0.4   & 0.0   & 0.25 \\\\\n",
       "\t 0.125 & 0.4   & 0.4   & 0.0   & 0.25 \\\\\n",
       "\t 0.875 & 0.0   & 0.0   & 0.6   & 0.50 \\\\\n",
       "\t 0.625 & 0.0   & 0.2   & 0.0   & 0.00 \\\\\n",
       "\\end{tabular}\n"
      ],
      "text/markdown": [
       "\n",
       "| localidade | bebida | pizza | salada | sobremesa |\n",
       "|---|---|---|---|---|\n",
       "| 0.750 | 0.4   | 0.4   | 0.0   | 0.25  |\n",
       "| 0.250 | 0.0   | 0.0   | 0.2   | 0.00  |\n",
       "| 0.625 | 0.0   | 0.4   | 0.0   | 0.25  |\n",
       "| 0.125 | 0.4   | 0.4   | 0.0   | 0.25  |\n",
       "| 0.875 | 0.0   | 0.0   | 0.6   | 0.50  |\n",
       "| 0.625 | 0.0   | 0.2   | 0.0   | 0.00  |\n",
       "\n"
      ],
      "text/plain": [
       "  localidade bebida pizza salada sobremesa\n",
       "1 0.750      0.4    0.4   0.0    0.25     \n",
       "2 0.250      0.0    0.0   0.2    0.00     \n",
       "3 0.625      0.0    0.4   0.0    0.25     \n",
       "4 0.125      0.4    0.4   0.0    0.25     \n",
       "5 0.875      0.0    0.0   0.6    0.50     \n",
       "6 0.625      0.0    0.2   0.0    0.00     "
      ]
     },
     "metadata": {},
     "output_type": "display_data"
    }
   ],
   "source": [
    "# Dataset normalizado.\n",
    "head(dfnorm)"
   ]
  },
  {
   "cell_type": "markdown",
   "metadata": {},
   "source": [
    "## 5. Modelagem Preditiva"
   ]
  },
  {
   "cell_type": "markdown",
   "metadata": {},
   "source": [
    "Um dos principais algoritmos para clusterização é o *K-means*. \n",
    "\n",
    "O objetivo desse algoritmo é encontrar similaridades entre os dados e agrupá-los conforme o número de clusters passado pelo parâmetro *k*.\n",
    "\n",
    "Para mais detalhes sobre esse algoritmo, acesse <a href='https://medium.com/@rafaelfelippe_/k-means-8b3d26bba387'>este link</a> em meu blog de estudos."
   ]
  },
  {
   "cell_type": "markdown",
   "metadata": {},
   "source": [
    "### 5.1 Avaliação da Tendência dos Clusters"
   ]
  },
  {
   "cell_type": "markdown",
   "metadata": {},
   "source": [
    "Vamos avaliar se o conjunto de dados é \"clusterizável\", ou seja, se ele pode ser segmentado de forma satisfatória ou não.\n",
    "\n",
    "Para essa tarefa, utilizaremos a estatística de *Hopkins*. "
   ]
  },
  {
   "cell_type": "code",
   "execution_count": 33,
   "metadata": {},
   "outputs": [],
   "source": [
    "# Amostra dos dados.\n",
    "set.seed(42)\n",
    "sample_df <- dfnorm %>% as_tibble() %>% \n",
    "sample_frac(0.02)"
   ]
  },
  {
   "cell_type": "markdown",
   "metadata": {},
   "source": [
    "Utilizaremos uma amostra de 2% dos dados para realizar o teste. "
   ]
  },
  {
   "cell_type": "code",
   "execution_count": 34,
   "metadata": {},
   "outputs": [
    {
     "data": {
      "text/html": [
       "<table>\n",
       "<thead><tr><th scope=col>localidade</th><th scope=col>bebida</th><th scope=col>pizza</th><th scope=col>salada</th><th scope=col>sobremesa</th></tr></thead>\n",
       "<tbody>\n",
       "\t<tr><td>0.000</td><td>0.0  </td><td>0.0  </td><td>0.6  </td><td>0.50 </td></tr>\n",
       "\t<tr><td>0.125</td><td>0.8  </td><td>0.8  </td><td>0.0  </td><td>0.75 </td></tr>\n",
       "\t<tr><td>0.125</td><td>0.0  </td><td>0.4  </td><td>0.0  </td><td>0.25 </td></tr>\n",
       "\t<tr><td>0.375</td><td>0.8  </td><td>0.8  </td><td>0.0  </td><td>0.75 </td></tr>\n",
       "\t<tr><td>0.625</td><td>0.0  </td><td>0.2  </td><td>0.2  </td><td>0.25 </td></tr>\n",
       "\t<tr><td>0.000</td><td>0.2  </td><td>0.4  </td><td>0.0  </td><td>0.25 </td></tr>\n",
       "</tbody>\n",
       "</table>\n"
      ],
      "text/latex": [
       "\\begin{tabular}{r|lllll}\n",
       " localidade & bebida & pizza & salada & sobremesa\\\\\n",
       "\\hline\n",
       "\t 0.000 & 0.0   & 0.0   & 0.6   & 0.50 \\\\\n",
       "\t 0.125 & 0.8   & 0.8   & 0.0   & 0.75 \\\\\n",
       "\t 0.125 & 0.0   & 0.4   & 0.0   & 0.25 \\\\\n",
       "\t 0.375 & 0.8   & 0.8   & 0.0   & 0.75 \\\\\n",
       "\t 0.625 & 0.0   & 0.2   & 0.2   & 0.25 \\\\\n",
       "\t 0.000 & 0.2   & 0.4   & 0.0   & 0.25 \\\\\n",
       "\\end{tabular}\n"
      ],
      "text/markdown": [
       "\n",
       "| localidade | bebida | pizza | salada | sobremesa |\n",
       "|---|---|---|---|---|\n",
       "| 0.000 | 0.0   | 0.0   | 0.6   | 0.50  |\n",
       "| 0.125 | 0.8   | 0.8   | 0.0   | 0.75  |\n",
       "| 0.125 | 0.0   | 0.4   | 0.0   | 0.25  |\n",
       "| 0.375 | 0.8   | 0.8   | 0.0   | 0.75  |\n",
       "| 0.625 | 0.0   | 0.2   | 0.2   | 0.25  |\n",
       "| 0.000 | 0.2   | 0.4   | 0.0   | 0.25  |\n",
       "\n"
      ],
      "text/plain": [
       "  localidade bebida pizza salada sobremesa\n",
       "1 0.000      0.0    0.0   0.6    0.50     \n",
       "2 0.125      0.8    0.8   0.0    0.75     \n",
       "3 0.125      0.0    0.4   0.0    0.25     \n",
       "4 0.375      0.8    0.8   0.0    0.75     \n",
       "5 0.625      0.0    0.2   0.2    0.25     \n",
       "6 0.000      0.2    0.4   0.0    0.25     "
      ]
     },
     "metadata": {},
     "output_type": "display_data"
    }
   ],
   "source": [
    "# Visualizando o dataframe.\n",
    "head(sample_df)"
   ]
  },
  {
   "cell_type": "code",
   "execution_count": 35,
   "metadata": {},
   "outputs": [
    {
     "data": {
      "text/html": [
       "<strong>$H</strong> = 0.221796275996366"
      ],
      "text/latex": [
       "\\textbf{\\$H} = 0.221796275996366"
      ],
      "text/markdown": [
       "**$H** = 0.221796275996366"
      ],
      "text/plain": [
       "$H\n",
       "[1] 0.2217963\n"
      ]
     },
     "metadata": {},
     "output_type": "display_data"
    }
   ],
   "source": [
    "# Teste de Hopkins.\n",
    "hopkins(sample_df, n = nrow(sample_df)-1)"
   ]
  },
  {
   "cell_type": "markdown",
   "metadata": {},
   "source": [
    "Interpretação do resultado:\n",
    "\n",
    "- **$H > 0.5**: dataset não é \"clusterizável\".\n",
    "\n",
    "- **$H < 0.5**: dataset é \"clusterizável\" (quanto mais próximo de zero melhor).\n",
    "\n",
    "Ou seja, os dados possuem algum padrão que nos permite aplicar a clusterização."
   ]
  },
  {
   "cell_type": "markdown",
   "metadata": {},
   "source": [
    "### 5.2 Definindo o Número de Clusters"
   ]
  },
  {
   "cell_type": "markdown",
   "metadata": {},
   "source": [
    "Para essa tarefa, utilizaremos o método de *Elbow*.\n",
    "\n",
    "Basicamente o que esse método faz é testar a variância dos dados em relação ao número de clusters. \n",
    "\n",
    "O valor ideal é considerado quando o aumento no número de clusters não representar um valor significativo de ganho de informação."
   ]
  },
  {
   "cell_type": "code",
   "execution_count": 36,
   "metadata": {},
   "outputs": [],
   "source": [
    "# Criando a função.\n",
    "elbow <- function(dataset){\n",
    "    wss <- numeric(15)\n",
    "    for (i in 1:15) wss[i] <- sum(kmeans(dataset, centers = i, nstart = 100)$withinss)\n",
    "    plot(1:15, wss, type = 'b', main = 'Método de Elbow', xlab = 'Número de Clusters', pch = 8)}"
   ]
  },
  {
   "cell_type": "code",
   "execution_count": 37,
   "metadata": {},
   "outputs": [
    {
     "data": {
      "image/png": "[encoded data removed]",
      "text/plain": [
       "Plot with title \"Método de Elbow\""
      ]
     },
     "metadata": {},
     "output_type": "display_data"
    }
   ],
   "source": [
    "# Método de Elbow.\n",
    "elbow(sample_df)"
   ]
  },
  {
   "cell_type": "markdown",
   "metadata": {},
   "source": [
    "- Vamos considerar o valor de *k = 3*, pois a partir desse número há pouco ganho de informação."
   ]
  },
  {
   "cell_type": "markdown",
   "metadata": {},
   "source": [
    "### 5.3 Criação do Modelo Preditivo"
   ]
  },
  {
   "cell_type": "code",
   "execution_count": 38,
   "metadata": {},
   "outputs": [],
   "source": [
    "# Instanciando e treinando o modelo.\n",
    "set.seed(42)\n",
    "modelo <- kmeans(dfnorm, 3)"
   ]
  },
  {
   "cell_type": "code",
   "execution_count": 39,
   "metadata": {},
   "outputs": [
    {
     "data": {
      "text/html": [
       "<ol class=list-inline>\n",
       "\t<li>20289</li>\n",
       "\t<li>31582</li>\n",
       "\t<li>48129</li>\n",
       "</ol>\n"
      ],
      "text/latex": [
       "\\begin{enumerate*}\n",
       "\\item 20289\n",
       "\\item 31582\n",
       "\\item 48129\n",
       "\\end{enumerate*}\n"
      ],
      "text/markdown": [
       "1. 20289\n",
       "2. 31582\n",
       "3. 48129\n",
       "\n",
       "\n"
      ],
      "text/plain": [
       "[1] 20289 31582 48129"
      ]
     },
     "metadata": {},
     "output_type": "display_data"
    }
   ],
   "source": [
    "# Tamanho dos clusters.\n",
    "modelo$size"
   ]
  },
  {
   "cell_type": "markdown",
   "metadata": {},
   "source": [
    "Utilizando a amostra de dados, podemos ter uma visualização de como foi feita a segmentação."
   ]
  },
  {
   "cell_type": "code",
   "execution_count": 40,
   "metadata": {},
   "outputs": [
    {
     "data": {
      "image/png": "[encoded data removed]",
      "text/plain": [
       "plot without title"
      ]
     },
     "metadata": {},
     "output_type": "display_data"
    }
   ],
   "source": [
    "# Clusterização com dados amostrais.\n",
    "cluster_viz <- eclust(sample_df, 'kmeans', k = 3, graph = FALSE)\n",
    "fviz_cluster(cluster_viz, geom = 'point')"
   ]
  },
  {
   "cell_type": "markdown",
   "metadata": {},
   "source": [
    "## 6. Análise de Clusters"
   ]
  },
  {
   "cell_type": "markdown",
   "metadata": {},
   "source": [
    "Iniciaremos uma análise com objetivo de identificar padrões nos clusters e recomendar ações para o departamento de Marketing."
   ]
  },
  {
   "cell_type": "code",
   "execution_count": 41,
   "metadata": {},
   "outputs": [
    {
     "data": {
      "text/html": [
       "<table>\n",
       "<thead><tr><th scope=col>id_transacao</th><th scope=col>horario_pedido</th><th scope=col>localidade</th><th scope=col>bebida</th><th scope=col>pizza</th><th scope=col>salada</th><th scope=col>sobremesa</th><th scope=col>cluster</th></tr></thead>\n",
       "<tbody>\n",
       "\t<tr><td>0x7901ee           </td><td>2019-01-16 18:33:00</td><td>7                  </td><td>2                  </td><td>2                  </td><td>0                  </td><td>2                  </td><td>3                  </td></tr>\n",
       "\t<tr><td>0x12b47f           </td><td>2019-09-04 12:36:00</td><td>3                  </td><td>0                  </td><td>0                  </td><td>1                  </td><td>1                  </td><td>3                  </td></tr>\n",
       "\t<tr><td>0x6d6979           </td><td>2019-03-18 00:27:00</td><td>6                  </td><td>0                  </td><td>2                  </td><td>0                  </td><td>2                  </td><td>3                  </td></tr>\n",
       "\t<tr><td>0x78dd1e           </td><td>2019-09-22 00:10:00</td><td>2                  </td><td>2                  </td><td>2                  </td><td>0                  </td><td>2                  </td><td>3                  </td></tr>\n",
       "\t<tr><td>0x4df8ab           </td><td>2019-01-17 11:35:00</td><td>8                  </td><td>0                  </td><td>0                  </td><td>3                  </td><td>3                  </td><td>1                  </td></tr>\n",
       "\t<tr><td>0x3be6d3           </td><td>2019-12-21 01:05:00</td><td>6                  </td><td>0                  </td><td>1                  </td><td>0                  </td><td>1                  </td><td>3                  </td></tr>\n",
       "</tbody>\n",
       "</table>\n"
      ],
      "text/latex": [
       "\\begin{tabular}{r|llllllll}\n",
       " id\\_transacao & horario\\_pedido & localidade & bebida & pizza & salada & sobremesa & cluster\\\\\n",
       "\\hline\n",
       "\t 0x7901ee            & 2019-01-16 18:33:00 & 7                   & 2                   & 2                   & 0                   & 2                   & 3                  \\\\\n",
       "\t 0x12b47f            & 2019-09-04 12:36:00 & 3                   & 0                   & 0                   & 1                   & 1                   & 3                  \\\\\n",
       "\t 0x6d6979            & 2019-03-18 00:27:00 & 6                   & 0                   & 2                   & 0                   & 2                   & 3                  \\\\\n",
       "\t 0x78dd1e            & 2019-09-22 00:10:00 & 2                   & 2                   & 2                   & 0                   & 2                   & 3                  \\\\\n",
       "\t 0x4df8ab            & 2019-01-17 11:35:00 & 8                   & 0                   & 0                   & 3                   & 3                   & 1                  \\\\\n",
       "\t 0x3be6d3            & 2019-12-21 01:05:00 & 6                   & 0                   & 1                   & 0                   & 1                   & 3                  \\\\\n",
       "\\end{tabular}\n"
      ],
      "text/markdown": [
       "\n",
       "| id_transacao | horario_pedido | localidade | bebida | pizza | salada | sobremesa | cluster |\n",
       "|---|---|---|---|---|---|---|---|\n",
       "| 0x7901ee            | 2019-01-16 18:33:00 | 7                   | 2                   | 2                   | 0                   | 2                   | 3                   |\n",
       "| 0x12b47f            | 2019-09-04 12:36:00 | 3                   | 0                   | 0                   | 1                   | 1                   | 3                   |\n",
       "| 0x6d6979            | 2019-03-18 00:27:00 | 6                   | 0                   | 2                   | 0                   | 2                   | 3                   |\n",
       "| 0x78dd1e            | 2019-09-22 00:10:00 | 2                   | 2                   | 2                   | 0                   | 2                   | 3                   |\n",
       "| 0x4df8ab            | 2019-01-17 11:35:00 | 8                   | 0                   | 0                   | 3                   | 3                   | 1                   |\n",
       "| 0x3be6d3            | 2019-12-21 01:05:00 | 6                   | 0                   | 1                   | 0                   | 1                   | 3                   |\n",
       "\n"
      ],
      "text/plain": [
       "  id_transacao horario_pedido      localidade bebida pizza salada sobremesa\n",
       "1 0x7901ee     2019-01-16 18:33:00 7          2      2     0      2        \n",
       "2 0x12b47f     2019-09-04 12:36:00 3          0      0     1      1        \n",
       "3 0x6d6979     2019-03-18 00:27:00 6          0      2     0      2        \n",
       "4 0x78dd1e     2019-09-22 00:10:00 2          2      2     0      2        \n",
       "5 0x4df8ab     2019-01-17 11:35:00 8          0      0     3      3        \n",
       "6 0x3be6d3     2019-12-21 01:05:00 6          0      1     0      1        \n",
       "  cluster\n",
       "1 3      \n",
       "2 3      \n",
       "3 3      \n",
       "4 3      \n",
       "5 1      \n",
       "6 3      "
      ]
     },
     "metadata": {},
     "output_type": "display_data"
    }
   ],
   "source": [
    "# Associando o resultado ao dataframe.\n",
    "df2$cluster <- modelo$cluster\n",
    "head(df2)"
   ]
  },
  {
   "cell_type": "code",
   "execution_count": 42,
   "metadata": {},
   "outputs": [
    {
     "data": {
      "image/png": "[encoded data removed]",
      "text/plain": [
       "plot without title"
      ]
     },
     "metadata": {},
     "output_type": "display_data"
    }
   ],
   "source": [
    "# Pedidos por clusters.\n",
    "df2 %>% as.data.frame() %>%\n",
    "select(bebida, pizza, salada, sobremesa, cluster) %>%\n",
    "as_tibble() %>%\n",
    "gather(item, qtd, 1:4) %>%\n",
    "mutate(cluster = factor(cluster, levels = c(1, 2, 3),\n",
    "                        labels = c('Cluster 1', 'Cluster 2', 'Cluster 3'))) %>%\n",
    "group_by(cluster) %>%\n",
    "dplyr::summarise(qtd = sum(qtd)) %>%\n",
    "\n",
    "# Plotagem.\n",
    "ggplot(aes(x = cluster, y = qtd)) +\n",
    "geom_col(aes(fill = cluster)) +\n",
    "ggtitle('Pedidos Realizados por Clusters') + theme(plot.title = element_text(hjust = 0.5)) +\n",
    "labs(x = 'Clusters', y = 'Quantidade') +\n",
    "geom_text(aes(label = round(qtd/sum(qtd), 2)),\n",
    "          vjust = 1.6, \n",
    "          color = 'white', \n",
    "          size = 3.5) +\n",
    "scale_fill_discrete(name = 'Legendas')"
   ]
  },
  {
   "cell_type": "markdown",
   "metadata": {},
   "source": [
    "- O cluster 1 é o menor entre os 3 clusters gerados.\n",
    "- O cluster 2 é o que mais registrou pedidos, totalizando 57%.\n",
    "\n",
    "Criaremos funções para analisar os clusters individualmente."
   ]
  },
  {
   "cell_type": "code",
   "execution_count": 43,
   "metadata": {},
   "outputs": [],
   "source": [
    "# Criando funções.\n",
    "\n",
    "# Itens mais pedidos.\n",
    "qnt_pedidos <- function(x, cor_escolhida){\n",
    "    df2 %>% as.data.frame() %>%\n",
    "    mutate(Cluster = factor(cluster, levels = c(1, 2, 3),\n",
    "                            labels = c('Cluster 1', 'Cluster 2', 'Cluster 3'))) %>% \n",
    "    filter(Cluster == x) %>% \n",
    "    select(bebida, pizza, salada, sobremesa) %>% \n",
    "    as_tibble() %>% \n",
    "    gather(item, qtd, 1:4) %>% \n",
    "    group_by(item) %>% \n",
    "    dplyr::summarise(qtd = sum(qtd)) %>% \n",
    "    ggplot(aes(x = item, y = qtd)) +\n",
    "    geom_col(fill = cor_escolhida) +\n",
    "    ylim(c(0, 150000)) +\n",
    "    ggtitle('Itens Mais Pedidos') +\n",
    "    geom_text(aes(label = round(qtd/sum(qtd), 2)), \n",
    "              vjust = -1, \n",
    "              color = 'black', \n",
    "              size = 3.5)}\n",
    "\n",
    "\n",
    "# Distribuição de frequência.\n",
    "frq_pedidos <- function(x,y){\n",
    "    df2 %>% as.data.frame() %>% \n",
    "    mutate(Cluster = factor(cluster, levels = c(1, 2, 3),\n",
    "                            labels = c('Cluster 1', 'Cluster 2', 'Cluster 3'))) %>% \n",
    "    filter(Cluster == x) %>% \n",
    "    select(bebida, pizza, salada, sobremesa) %>% \n",
    "    as_tibble() %>% \n",
    "    gather(item, qtd, 1:4) %>% \n",
    "    filter(qtd > 0) %>% \n",
    "    ggplot(aes(x = qtd)) +\n",
    "    geom_histogram(aes(y = ..density..), binwidth = 1, show.legend = FALSE, fill = y) +\n",
    "    facet_grid(~item) +\n",
    "    ggtitle('Distribuição de Frequência') +\n",
    "    xlab('Quantidade')}\n",
    "\n",
    "# Pedidos por horário.\n",
    "hr_pedidos <- function(x){\n",
    "    df2 %>% as.data.frame() %>% \n",
    "    select(horario_pedido, bebida, pizza, salada, sobremesa, cluster) %>% \n",
    "    gather(item, qtd, 2:5) %>% \n",
    "    mutate(horario = hour(horario_pedido),\n",
    "           Cluster = factor(cluster,levels = c(1, 2, 3),\n",
    "                            labels = c('Cluster 1', 'Cluster 2', 'Cluster 3'))) %>% \n",
    "    select(Cluster, item, qtd, horario) %>% \n",
    "    filter(Cluster == x, qtd > 0) %>% \n",
    "    select(item, qtd, horario) %>% \n",
    "    as_tibble() %>% \n",
    "    ggplot(aes(x = horario, color = item)) +\n",
    "    geom_freqpoly(binwidth = 1, size = 1) +\n",
    "    xlim(c(0, 23)) +\n",
    "    xlab('Hora do dia') +\n",
    "    ggtitle('Pedidos por Horário')}"
   ]
  },
  {
   "cell_type": "markdown",
   "metadata": {},
   "source": [
    "### 6.1 Análise Cluster 1"
   ]
  },
  {
   "cell_type": "code",
   "execution_count": 44,
   "metadata": {},
   "outputs": [
    {
     "data": {
      "image/png": "[encoded data removed]",
      "text/plain": [
       "plot without title"
      ]
     },
     "metadata": {},
     "output_type": "display_data"
    }
   ],
   "source": [
    "# Cluster 1.\n",
    "gridExtra::grid.arrange(qnt_pedidos('Cluster 1', 'coral2'),\n",
    "                        frq_pedidos('Cluster 1', 'coral2'),\n",
    "                        hr_pedidos('Cluster 1'),\n",
    "                        nrow = 3,\n",
    "                        top = textGrob('Cluster 1', gp = gpar(fontsize = 15)))"
   ]
  },
  {
   "cell_type": "markdown",
   "metadata": {},
   "source": [
    "**Principais Características do Cluster 1**:\n",
    "\n",
    "- Possui o menor número de pedidos (19%).\n",
    "\n",
    "- É o principal consumidor de salada.\n",
    "\n",
    "- Pizza e bebida somam apenas 7% do total dos pedidos.\n",
    "\n",
    "- Pedidos são realizados essencialmente no horário de almoço.\n",
    "\n",
    "\n",
    "\n",
    "**Recomendações para o Departamento de Marketing**:\n",
    "\n",
    "- Incluir mais opções de produtos saudáveis no cardápio, como lanches naturais, comidas veganas e chás, principalmente no horário de almoço, onde ocorre o maior número de pedidos desse segmento. Para o período noturno, onde esses clientes são menos presentes, oferecer esses novos produtos pode ser uma estratégia para aumentar as vendas nesse horário.\n",
    "\n",
    "\n",
    "- Criar promoções envolvendo os itens salada e sobremesa, como por exemplo: \"Na compra da salada \"X\", ganhe uma sobremesa grátis\". \n"
   ]
  },
  {
   "cell_type": "markdown",
   "metadata": {},
   "source": [
    "### 6.2 Análise Cluster 2"
   ]
  },
  {
   "cell_type": "code",
   "execution_count": 45,
   "metadata": {},
   "outputs": [
    {
     "data": {
      "image/png": "[encoded data removed]",
      "text/plain": [
       "plot without title"
      ]
     },
     "metadata": {},
     "output_type": "display_data"
    }
   ],
   "source": [
    "# Cluster 2.\n",
    "gridExtra::grid.arrange(qnt_pedidos('Cluster 2', 'palegreen3'),\n",
    "                        frq_pedidos('Cluster 2', 'palegreen3'),\n",
    "                        hr_pedidos('Cluster 2'),\n",
    "                        nrow = 3,\n",
    "                        top = textGrob('Cluster 2', gp = gpar(fontsize = 15)))"
   ]
  },
  {
   "cell_type": "markdown",
   "metadata": {},
   "source": [
    "**Principais Características do Cluster 2**:\n",
    "\n",
    "- É o principal cluster, possuindo 57% dos pedidos.\n",
    "\n",
    "- É o principal consumidor de pizza.\n",
    "\n",
    "- Pedidos de salada são praticamente nulos.\n",
    "\n",
    "- Pedidos são realizados em grandes quantidades e no período tarde/noite.\n",
    "\n",
    "\n",
    "**Recomendações para o Departamento de Marketing**:\n",
    "\n",
    "- Criar combos promocionais envolvendo sobremesa, pizza e bebida, pois são os itens mais consumidos do cluster.\n",
    "\n",
    "\n",
    "- Criar promoções para captar clientes com perfis parecidos. Como esse cluster tem um grande número de clientes consumindo o principal item do cardápio (pizza), provavelmente esse tipo de promoção atrairia mais clientes com perfil parecido."
   ]
  },
  {
   "cell_type": "markdown",
   "metadata": {},
   "source": [
    "### 6.3 Análise Cluster 3"
   ]
  },
  {
   "cell_type": "code",
   "execution_count": 46,
   "metadata": {},
   "outputs": [
    {
     "data": {
      "image/png": "[encoded data removed]",
      "text/plain": [
       "plot without title"
      ]
     },
     "metadata": {},
     "output_type": "display_data"
    }
   ],
   "source": [
    "# Cluster 3.\n",
    "gridExtra::grid.arrange(qnt_pedidos('Cluster 3', 'steelblue'),\n",
    "                        frq_pedidos('Cluster 3', 'steelblue'),\n",
    "                        hr_pedidos('Cluster 3'),\n",
    "                        nrow = 3,\n",
    "                        top = textGrob('Cluster 3', gp = gpar(fontsize = 15)))"
   ]
  },
  {
   "cell_type": "markdown",
   "metadata": {},
   "source": [
    "**Principais Características do Cluster 3**:\n",
    "\n",
    "- Possui 25% dos pedidos.\n",
    "\n",
    "- É o cluster mais equilibrado em relação aos pedidos.\n",
    "\n",
    "- Pedidos são realizados em pequenas quantidades.\n",
    "\n",
    "- Alto número de pedidos por volta da meia noite.\n",
    "\n",
    "\n",
    "**Recomendação para o Departamento de Marketing**:\n",
    "\n",
    "- Criar combos promocionais com o objetivo de aumentar o número de itens por pedido."
   ]
  },
  {
   "cell_type": "markdown",
   "metadata": {},
   "source": [
    "## 7. Conclusões Finais"
   ]
  },
  {
   "cell_type": "markdown",
   "metadata": {},
   "source": [
    "Para a realização da segmentação dos clientes da Big Rango utilizamos o algoritmo *K-means*.\n",
    "\n",
    "Através do método de *Elbow*, definimos que os dados deveriam ser segmentados em três clusters, foram eles:\n",
    "\n",
    "- **Cluster 1:** clientes mais saudáveis; alto consumo de salada.\n",
    "- **Cluster 2:** clientes que fazem pedidos em grandes quantidades; é o principal cluster para a empresa.\n",
    "- **Cluster 3:** clientes que fazem pedidos próximos a meia noite; é o cluster mais equilibrado. \n",
    "\n",
    "Além das recomendações já feitas na etapa anterior, durante a análise exploratória geramos alguns insights interessantes para a empresa:\n",
    "\n",
    "- Maio foi o mês que teve o maior número de pedidos, enquanto fevereiro registrou o menor número.\n",
    "- Geralmente nos últimos dias dos meses há uma queda no número de pedidos. \n",
    "- As localidades 6 e 2 são as que mais geram pedidos, totalizando 28%.\n",
    "\n",
    "Depois de garantir uma excelente segmentação, a Big Rango já pode direcionar ações para melhorar a experiência de seus clientes, adotando estratégias e campanhas customizadas para cada grupo, e consequentemente impactando a sua lucratividade!"
   ]
  }
 ],
 "metadata": {
  "kernelspec": {
   "display_name": "R",
   "language": "R",
   "name": "ir"
  },
  "language_info": {
   "codemirror_mode": "r",
   "file_extension": ".r",
   "mimetype": "text/x-r-source",
   "name": "R",
   "pygments_lexer": "r",
   "version": "3.6.1"
  },
  "varInspector": {
   "cols": {
    "lenName": 16,
    "lenType": 16,
    "lenVar": 40
   },
   "kernels_config": {
    "python": {
     "delete_cmd_postfix": "",
     "delete_cmd_prefix": "del ",
     "library": "var_list.py",
     "varRefreshCmd": "print(var_dic_list())"
    },
    "r": {
     "delete_cmd_postfix": ") ",
     "delete_cmd_prefix": "rm(",
     "library": "var_list.r",
     "varRefreshCmd": "cat(var_dic_list()) "
    }
   },
   "types_to_exclude": [
    "module",
    "function",
    "builtin_function_or_method",
    "instance",
    "_Feature"
   ],
   "window_display": false
  }
 },
 "nbformat": 4,
 "nbformat_minor": 2
}
